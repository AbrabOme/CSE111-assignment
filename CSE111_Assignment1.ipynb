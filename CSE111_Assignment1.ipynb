{
 "cells": [
  {
   "cell_type": "code",
   "execution_count": null,
   "id": "4ecb0e67",
   "metadata": {},
   "outputs": [],
   "source": [
    "#task1 string\n",
    "lower = 0\n",
    "upper = 0 \n",
    "word = str(input(\"Enter a word: \"))\n",
    "for i in word:\n",
    "\n",
    "    if ord(i)<= 90 and ord(i)>= 65:\n",
    "        upper += 1\n",
    "    elif ord(i) <= 122 and ord(i) >= 97:\n",
    "        lower += 1\n",
    "if lower >= upper:\n",
    "    print(word.lower())\n",
    "else:\n",
    "    print(word.upper())"
   ]
  },
  {
   "cell_type": "code",
   "execution_count": null,
   "id": "b43271da",
   "metadata": {},
   "outputs": [],
   "source": [
    "#task2\n",
    "word = input(\"Enter your desired input: \")\n",
    "number = 0\n",
    "alpha = 0\n",
    "mix = 0\n",
    "for i in word: \n",
    "    ord_ver = ord(i)\n",
    "\n",
    "    if 65<=ord_ver <=90:\n",
    "        alpha += 1\n",
    "    elif ord_ver>=48 and ord_ver<=57:\n",
    "        number += 1\n",
    "if number > 0 and alpha > 0:\n",
    "    print('MIXED')\n",
    "elif number > 0:\n",
    "    print('NUMBER')\n",
    "else:\n",
    "    print('WORD')"
   ]
  },
  {
   "cell_type": "code",
   "execution_count": null,
   "id": "a7390147",
   "metadata": {},
   "outputs": [],
   "source": [
    "#task3\n",
    "new = \"\"\n",
    "word_1 = False\n",
    "word = str(input(\"Enter a word: \"))\n",
    "for i in word:\n",
    "    if 97 <= ord(i) <= 122 and word_1 == True:\n",
    "        new += i\n",
    "    elif 65 <= ord(i) <= 90 and word_1 == False:\n",
    "        word_1 = True\n",
    "    elif 65 <= ord(i) <= 90 and word_1 == True:\n",
    "        word_1 = False\n",
    "if new == \"\":\n",
    "    print(\"BLANK\")\n",
    "else:\n",
    "    print(new)"
   ]
  },
  {
   "cell_type": "code",
   "execution_count": null,
   "id": "73302649",
   "metadata": {},
   "outputs": [],
   "source": [
    "#task4\n",
    "new = \"\"\n",
    "word = str(input(\"Enter the first word: \"))\n",
    "word_1 = str(input(\"Enter the second word: \"))\n",
    "for i in word:\n",
    "    if i in word_1:\n",
    "        new += i\n",
    "for j in word_1:\n",
    "    if j in word:\n",
    "        new += j\n",
    "if new == \"\":\n",
    "    print(\"Nothing in common.\")\n",
    "print(new)"
   ]
  },
  {
   "cell_type": "code",
   "execution_count": null,
   "id": "0d146020",
   "metadata": {},
   "outputs": [],
   "source": [
    "#task5\n",
    "up = False\n",
    "low = False\n",
    "dig = False\n",
    "spc = False\n",
    "word = input(\"Enter a password: \")\n",
    "for i in word:\n",
    "    if 97 <= ord(i) <= 122:\n",
    "        low = True\n",
    "    elif 65 <= ord(i) <= 90:\n",
    "        up = True\n",
    "    elif 33 <= ord(i) <= 47 or 58 <= ord(i) <= 64 or 91 <= ord(i) <= 96 or 123 <= ord(i) <= 126:\n",
    "        spc = True\n",
    "    elif 48 <= ord(i) <= 57:\n",
    "        dig = True\n",
    "if up == True and low == True and dig == True and spc == True:\n",
    "    print(\"OK\")\n",
    "if up == False:\n",
    "    print(\"Uppercase character missing\", end = \" ,\")\n",
    "if low == False:\n",
    "    print(\"Lowercase character missing\", end = \" ,\")\n",
    "if dig == False:\n",
    "    print(\"Digit missing\", end = \" ,\")\n",
    "if spc == False:\n",
    "    print(\"Special character missing\")"
   ]
  },
  {
   "cell_type": "code",
   "execution_count": null,
   "id": "61450497",
   "metadata": {},
   "outputs": [],
   "source": [
    "#task5\n",
    "up = False\n",
    "low = False\n",
    "dig = False\n",
    "spc = False\n",
    "ans = \"\"\n",
    "word = input(\"Enter a password: \")\n",
    "for i in word:\n",
    "    if 97 <= ord(i) <= 122:\n",
    "        low = True\n",
    "    elif 65 <= ord(i) <= 90:\n",
    "        up = True\n",
    "    elif 33 <= ord(i) <= 47 or 58 <= ord(i) <= 64 or 91 <= ord(i) <= 96 or 123 <= ord(i) <= 126:\n",
    "        spc = True\n",
    "    elif 48 <= ord(i) <= 57:\n",
    "        dig = True\n",
    "if up == True and low == True and dig == True and spc == True:\n",
    "    ans+=\"OK, \"\n",
    "if up == False:\n",
    "    ans+=\"Uppercase character missing, \"\n",
    "if low == False:\n",
    "    ans+=\"Lowercase character missing, \"\n",
    "if dig == False:\n",
    "    ans+=\"Digit missing, \"\n",
    "if spc == False:\n",
    "    ans+=\"Special character missing, \"\n",
    "print(ans[:-2:])"
   ]
  },
  {
   "cell_type": "code",
   "execution_count": null,
   "id": "41f3efe1",
   "metadata": {},
   "outputs": [],
   "source": [
    "def replace_domain(email,new_domain,old_dom = None):\n",
    "    new = email.split(\"@\")\n",
    "    if new[1] == new_domain:\n",
    "        print(\"Unchanged:\",email)\n",
    "    elif new[1] != new_domain:\n",
    "        new[0] += \"@\"\n",
    "        new[0] += new_domain\n",
    "        print(\"Changed:\",new[0])\n",
    "replace_domain(\"alice@kaaj.com\", \"sheba.xyz\", \"kaaj.com\")"
   ]
  },
  {
   "cell_type": "code",
   "execution_count": null,
   "id": "6e4cfddd",
   "metadata": {},
   "outputs": [],
   "source": [
    "def Palindrome(let):\n",
    "    wor = \"\"\n",
    "    for i in let:\n",
    "        if i != \" \":\n",
    "            wor += i\n",
    "    rev = \"\"\n",
    "    for i in let:\n",
    "        if i != \" \":\n",
    "            rev += i\n",
    "            rev[::-1]\n",
    "    if wor == rev:\n",
    "        print(\"Palindrome\")\n",
    "    else:\n",
    "        print(\"Not a palindrome\")\n",
    "Palindrome(\"dfdsf\")"
   ]
  },
  {
   "cell_type": "code",
   "execution_count": 9,
   "id": "199846c1",
   "metadata": {},
   "outputs": [
    {
     "ename": "TypeError",
     "evalue": "unsupported operand type(s) for -: 'str' and 'int'",
     "output_type": "error",
     "traceback": [
      "\u001b[1;31m---------------------------------------------------------------------------\u001b[0m",
      "\u001b[1;31mTypeError\u001b[0m                                 Traceback (most recent call last)",
      "Input \u001b[1;32mIn [9]\u001b[0m, in \u001b[0;36m<cell line: 13>\u001b[1;34m()\u001b[0m\n\u001b[0;32m     11\u001b[0m         \u001b[38;5;28;01mfor\u001b[39;00m ita \u001b[38;5;129;01min\u001b[39;00m lis:\n\u001b[0;32m     12\u001b[0m             \u001b[38;5;28mprint\u001b[39m(ita,end \u001b[38;5;241m=\u001b[39m \u001b[38;5;124m\"\u001b[39m\u001b[38;5;124m\"\u001b[39m)\n\u001b[1;32m---> 13\u001b[0m \u001b[43mcapital_maker\u001b[49m\u001b[43m(\u001b[49m\u001b[38;5;124;43m\"\u001b[39;49m\u001b[38;5;124;43mi am a bad boy. i do naughty things\u001b[39;49m\u001b[38;5;124;43m\"\u001b[39;49m\u001b[43m)\u001b[49m\n",
      "Input \u001b[1;32mIn [9]\u001b[0m, in \u001b[0;36mcapital_maker\u001b[1;34m(line)\u001b[0m\n\u001b[0;32m      5\u001b[0m lis[\u001b[38;5;241m0\u001b[39m] \u001b[38;5;241m=\u001b[39m lis[\u001b[38;5;241m0\u001b[39m]\u001b[38;5;241m.\u001b[39mupper()\n\u001b[0;32m      6\u001b[0m \u001b[38;5;28;01mfor\u001b[39;00m j \u001b[38;5;129;01min\u001b[39;00m lis:\n\u001b[1;32m----> 7\u001b[0m     \u001b[38;5;28;01mif\u001b[39;00m lis[\u001b[43mj\u001b[49m\u001b[38;5;241;43m-\u001b[39;49m\u001b[38;5;241;43m1\u001b[39;49m] \u001b[38;5;241m==\u001b[39m \u001b[38;5;124m\"\u001b[39m\u001b[38;5;124m \u001b[39m\u001b[38;5;124m\"\u001b[39m \u001b[38;5;129;01mand\u001b[39;00m lis[j\u001b[38;5;241m+\u001b[39m\u001b[38;5;241m1\u001b[39m] \u001b[38;5;241m==\u001b[39m \u001b[38;5;124m\"\u001b[39m\u001b[38;5;124m \u001b[39m\u001b[38;5;124m\"\u001b[39m \u001b[38;5;129;01mand\u001b[39;00m lis[j] \u001b[38;5;241m==\u001b[39m \u001b[38;5;124m\"\u001b[39m\u001b[38;5;124mi\u001b[39m\u001b[38;5;124m\"\u001b[39m:\n\u001b[0;32m      8\u001b[0m         lis[j] \u001b[38;5;241m=\u001b[39m \u001b[38;5;124m\"\u001b[39m\u001b[38;5;124mI\u001b[39m\u001b[38;5;124m\"\u001b[39m\n\u001b[0;32m      9\u001b[0m     \u001b[38;5;28;01melif\u001b[39;00m lis[j] \u001b[38;5;241m==\u001b[39m \u001b[38;5;124m\"\u001b[39m\u001b[38;5;124m.\u001b[39m\u001b[38;5;124m\"\u001b[39m \u001b[38;5;129;01mor\u001b[39;00m lis[j] \u001b[38;5;241m==\u001b[39m \u001b[38;5;124m\"\u001b[39m\u001b[38;5;124m?\u001b[39m\u001b[38;5;124m\"\u001b[39m \u001b[38;5;129;01mor\u001b[39;00m lis[j] \u001b[38;5;241m==\u001b[39m \u001b[38;5;124m\"\u001b[39m\u001b[38;5;124m!\u001b[39m\u001b[38;5;124m\"\u001b[39m \u001b[38;5;129;01mand\u001b[39;00m j \u001b[38;5;241m!=\u001b[39m \u001b[38;5;28mlen\u001b[39m(lis)\u001b[38;5;241m-\u001b[39m\u001b[38;5;241m1\u001b[39m:\n",
      "\u001b[1;31mTypeError\u001b[0m: unsupported operand type(s) for -: 'str' and 'int'"
     ]
    }
   ],
   "source": [
    "def capital_maker(line):\n",
    "    lis = []\n",
    "    for i in line:\n",
    "        lis.append(i)\n",
    "        lis[0] = lis[0].upper()\n",
    "        for j in lis:\n",
    "            if lis[j-1] == \" \" and lis[j+1] == \" \" and lis[j] == \"i\":\n",
    "                lis[j] = \"I\"\n",
    "            elif lis[j] == \".\" or lis[j] == \"?\" or lis[j] == \"!\" and j != len(lis)-1:\n",
    "                lis[j+2] = lis[j+2].upper()\n",
    "        for ita in lis:\n",
    "            print(ita,end = \"\")\n",
    "capital_maker(\"i am a bad boy. i do naughty things\")"
   ]
  },
  {
   "cell_type": "code",
   "execution_count": null,
   "id": "b4242cb9",
   "metadata": {},
   "outputs": [],
   "source": []
  }
 ],
 "metadata": {
  "kernelspec": {
   "display_name": "Python 3 (ipykernel)",
   "language": "python",
   "name": "python3"
  },
  "language_info": {
   "codemirror_mode": {
    "name": "ipython",
    "version": 3
   },
   "file_extension": ".py",
   "mimetype": "text/x-python",
   "name": "python",
   "nbconvert_exporter": "python",
   "pygments_lexer": "ipython3",
   "version": "3.9.12"
  }
 },
 "nbformat": 4,
 "nbformat_minor": 5
}
